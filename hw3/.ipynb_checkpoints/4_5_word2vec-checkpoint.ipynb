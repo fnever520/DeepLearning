{
 "cells": [
  {
   "cell_type": "markdown",
   "metadata": {
    "colab_type": "text",
    "id": "D7tqLMoKF6uq"
   },
   "source": [
    "Deep Learning\n",
    "=============\n",
    "\n",
    "Assignment 5\n",
    "------------\n",
    "\n",
    "The goal of this assignment is to train a Word2Vec skip-gram model over [Text8](http://mattmahoney.net/dc/textdata) data."
   ]
  },
  {
   "cell_type": "code",
   "execution_count": 3,
   "metadata": {
    "cellView": "both",
    "colab": {
     "autoexec": {
      "startup": false,
      "wait_interval": 0
     }
    },
    "colab_type": "code",
    "id": "0K1ZyLn04QZf"
   },
   "outputs": [],
   "source": [
    "# These are all the modules we'll be using later. Make sure you can import them\n",
    "# before proceeding further.\n",
    "%matplotlib inline\n",
    "#from __future__ import print_function\n",
    "import collections\n",
    "import math\n",
    "import numpy as np\n",
    "import os\n",
    "import random\n",
    "import tensorflow as tf\n",
    "import zipfile\n",
    "from matplotlib import pylab\n",
    "from six.moves import range\n",
    "from six.moves.urllib.request import urlretrieve\n",
    "from sklearn.manifold import TSNE"
   ]
  },
  {
   "cell_type": "markdown",
   "metadata": {
    "colab_type": "text",
    "id": "aCjPJE944bkV"
   },
   "source": [
    "Download the data from the source website if necessary."
   ]
  },
  {
   "cell_type": "code",
   "execution_count": 4,
   "metadata": {
    "cellView": "both",
    "colab": {
     "autoexec": {
      "startup": false,
      "wait_interval": 0
     },
     "output_extras": [
      {
       "item_id": 1
      }
     ]
    },
    "colab_type": "code",
    "executionInfo": {
     "elapsed": 14640,
     "status": "ok",
     "timestamp": 1445964482948,
     "user": {
      "color": "#1FA15D",
      "displayName": "Vincent Vanhoucke",
      "isAnonymous": false,
      "isMe": true,
      "permissionId": "05076109866853157986",
      "photoUrl": "//lh6.googleusercontent.com/-cCJa7dTDcgQ/AAAAAAAAAAI/AAAAAAAACgw/r2EZ_8oYer4/s50-c-k-no/photo.jpg",
      "sessionId": "2f1ffade4c9f20de",
      "userId": "102167687554210253930"
     },
     "user_tz": 420
    },
    "id": "RJ-o3UBUFtCw",
    "outputId": "c4ec222c-80b5-4298-e635-93ca9f79c3b7"
   },
   "outputs": [
    {
     "name": "stdout",
     "output_type": "stream",
     "text": [
      "Found and verified text8.zip\n"
     ]
    }
   ],
   "source": [
    "url = 'http://mattmahoney.net/dc/'\n",
    "\n",
    "def maybe_download(filename, expected_bytes):\n",
    "  \"\"\"Download a file if not present, and make sure it's the right size.\"\"\"\n",
    "  if not os.path.exists(filename):\n",
    "    filename, _ = urlretrieve(url + filename, filename)\n",
    "  statinfo = os.stat(filename)\n",
    "  if statinfo.st_size == expected_bytes:\n",
    "    print('Found and verified %s' % filename)\n",
    "  else:\n",
    "    print(statinfo.st_size)\n",
    "    raise Exception(\n",
    "      'Failed to verify ' + filename + '. Can you get to it with a browser?')\n",
    "  return filename\n",
    "\n",
    "filename = maybe_download('text8.zip', 31344016)"
   ]
  },
  {
   "cell_type": "markdown",
   "metadata": {
    "colab_type": "text",
    "id": "Zqz3XiqI4mZT"
   },
   "source": [
    "Read the data into a string."
   ]
  },
  {
   "cell_type": "code",
   "execution_count": 5,
   "metadata": {
    "cellView": "both",
    "colab": {
     "autoexec": {
      "startup": false,
      "wait_interval": 0
     },
     "output_extras": [
      {
       "item_id": 1
      }
     ]
    },
    "colab_type": "code",
    "executionInfo": {
     "elapsed": 28844,
     "status": "ok",
     "timestamp": 1445964497165,
     "user": {
      "color": "#1FA15D",
      "displayName": "Vincent Vanhoucke",
      "isAnonymous": false,
      "isMe": true,
      "permissionId": "05076109866853157986",
      "photoUrl": "//lh6.googleusercontent.com/-cCJa7dTDcgQ/AAAAAAAAAAI/AAAAAAAACgw/r2EZ_8oYer4/s50-c-k-no/photo.jpg",
      "sessionId": "2f1ffade4c9f20de",
      "userId": "102167687554210253930"
     },
     "user_tz": 420
    },
    "id": "Mvf09fjugFU_",
    "outputId": "e3a928b4-1645-4fe8-be17-fcf47de5716d"
   },
   "outputs": [
    {
     "name": "stdout",
     "output_type": "stream",
     "text": [
      "Data size 17005207\n"
     ]
    }
   ],
   "source": [
    "def read_data(filename):\n",
    "  \"\"\"Extract the first file enclosed in a zip file as a list of words\"\"\"\n",
    "  with zipfile.ZipFile(filename) as f:\n",
    "    data = tf.compat.as_str(f.read(f.namelist()[0])).split()\n",
    "  return data\n",
    "  \n",
    "words = read_data(filename)\n",
    "print('Data size %d' % len(words))"
   ]
  },
  {
   "cell_type": "markdown",
   "metadata": {
    "colab_type": "text",
    "id": "Zdw6i4F8glpp"
   },
   "source": [
    "Build the dictionary and replace rare words with UNK token."
   ]
  },
  {
   "cell_type": "code",
   "execution_count": null,
   "metadata": {
    "cellView": "both",
    "colab": {
     "autoexec": {
      "startup": false,
      "wait_interval": 0
     },
     "output_extras": [
      {
       "item_id": 1
      }
     ]
    },
    "colab_type": "code",
    "executionInfo": {
     "elapsed": 28849,
     "status": "ok",
     "timestamp": 1445964497178,
     "user": {
      "color": "#1FA15D",
      "displayName": "Vincent Vanhoucke",
      "isAnonymous": false,
      "isMe": true,
      "permissionId": "05076109866853157986",
      "photoUrl": "//lh6.googleusercontent.com/-cCJa7dTDcgQ/AAAAAAAAAAI/AAAAAAAACgw/r2EZ_8oYer4/s50-c-k-no/photo.jpg",
      "sessionId": "2f1ffade4c9f20de",
      "userId": "102167687554210253930"
     },
     "user_tz": 420
    },
    "id": "gAL1EECXeZsD",
    "outputId": "3fb4ecd1-df67-44b6-a2dc-2291730970b2"
   },
   "outputs": [
    {
     "name": "stdout",
     "output_type": "stream",
     "text": [
      "Most common words (+UNK) [['UNK', 418391], ('the', 1061396), ('of', 593677), ('and', 416629), ('one', 411764)]\n",
      "Sample data [5234, 3081, 12, 6, 195, 2, 3134, 46, 59, 156]\n"
     ]
    }
   ],
   "source": [
    "vocabulary_size = 50000\n",
    "\n",
    "def build_dataset(words):\n",
    "  count = [['UNK', -1]]\n",
    "  count.extend(collections.Counter(words).most_common(vocabulary_size - 1))\n",
    "  dictionary = dict()\n",
    "  for word, _ in count:\n",
    "    dictionary[word] = len(dictionary)\n",
    "  data = list()\n",
    "  unk_count = 0\n",
    "  for word in words:\n",
    "    if word in dictionary:\n",
    "      index = dictionary[word]\n",
    "    else:\n",
    "      index = 0  # dictionary['UNK']\n",
    "      unk_count = unk_count + 1\n",
    "    data.append(index)\n",
    "  count[0][1] = unk_count\n",
    "  reverse_dictionary = dict(zip(dictionary.values(), dictionary.keys())) \n",
    "  return data, count, dictionary, reverse_dictionary\n",
    "\n",
    "data, count, dictionary, reverse_dictionary = build_dataset(words)\n",
    "print('Most common words (+UNK)', count[:5])\n",
    "print('Sample data', data[:10])\n",
    "del words  # Hint to reduce memory."
   ]
  },
  {
   "cell_type": "markdown",
   "metadata": {
    "colab_type": "text",
    "id": "lFwoyygOmWsL"
   },
   "source": [
    "Function to generate a training batch for the skip-gram model."
   ]
  },
  {
   "cell_type": "code",
   "execution_count": null,
   "metadata": {
    "cellView": "both",
    "colab": {
     "autoexec": {
      "startup": false,
      "wait_interval": 0
     },
     "output_extras": [
      {
       "item_id": 1
      }
     ]
    },
    "colab_type": "code",
    "executionInfo": {
     "elapsed": 113,
     "status": "ok",
     "timestamp": 1445964901989,
     "user": {
      "color": "#1FA15D",
      "displayName": "Vincent Vanhoucke",
      "isAnonymous": false,
      "isMe": true,
      "permissionId": "05076109866853157986",
      "photoUrl": "//lh6.googleusercontent.com/-cCJa7dTDcgQ/AAAAAAAAAAI/AAAAAAAACgw/r2EZ_8oYer4/s50-c-k-no/photo.jpg",
      "sessionId": "2f1ffade4c9f20de",
      "userId": "102167687554210253930"
     },
     "user_tz": 420
    },
    "id": "w9APjA-zmfjV",
    "outputId": "67cccb02-cdaf-4e47-d489-43bcc8d57bb8"
   },
   "outputs": [
    {
     "name": "stdout",
     "output_type": "stream",
     "text": [
      "data: ['anarchism', 'originated', 'as', 'a', 'term', 'of', 'abuse', 'first']\n",
      "\n",
      "with num_skips = 2 and skip_window = 1:\n",
      "    batch: ['originated', 'originated', 'as', 'as', 'a', 'a', 'term', 'term']\n",
      "    labels: ['anarchism', 'as', 'originated', 'a', 'term', 'as', 'a', 'of']\n",
      "\n",
      "with num_skips = 4 and skip_window = 2:\n",
      "    batch: ['as', 'as', 'as', 'as', 'a', 'a', 'a', 'a']\n",
      "    labels: ['a', 'anarchism', 'originated', 'term', 'originated', 'as', 'of', 'term']\n"
     ]
    }
   ],
   "source": [
    "data_index = 0\n",
    "\n",
    "def generate_batch(batch_size, num_skips, skip_window):\n",
    "  global data_index\n",
    "  assert batch_size % num_skips == 0\n",
    "  assert num_skips <= 2 * skip_window\n",
    "  batch = np.ndarray(shape=(batch_size), dtype=np.int32)\n",
    "  labels = np.ndarray(shape=(batch_size, 1), dtype=np.int32)\n",
    "  span = 2 * skip_window + 1 # [ skip_window target skip_window ]\n",
    "  buffer = collections.deque(maxlen=span)\n",
    "  for _ in range(span):\n",
    "    buffer.append(data[data_index])\n",
    "    data_index = (data_index + 1) % len(data)\n",
    "  for i in range(batch_size // num_skips):\n",
    "    target = skip_window  # target label at the center of the buffer\n",
    "    targets_to_avoid = [ skip_window ]\n",
    "    for j in range(num_skips):\n",
    "      while target in targets_to_avoid:\n",
    "        target = random.randint(0, span - 1)\n",
    "      targets_to_avoid.append(target)\n",
    "      batch[i * num_skips + j] = buffer[skip_window]\n",
    "      labels[i * num_skips + j, 0] = buffer[target]\n",
    "    buffer.append(data[data_index])\n",
    "    data_index = (data_index + 1) % len(data)\n",
    "  return batch, labels\n",
    "\n",
    "print('data:', [reverse_dictionary[di] for di in data[:8]])\n",
    "\n",
    "for num_skips, skip_window in [(2, 1), (4, 2)]:\n",
    "    data_index = 0\n",
    "    batch, labels = generate_batch(batch_size=8, num_skips=num_skips, skip_window=skip_window)\n",
    "    print('\\nwith num_skips = %d and skip_window = %d:' % (num_skips, skip_window))\n",
    "    print('    batch:', [reverse_dictionary[bi] for bi in batch])\n",
    "    print('    labels:', [reverse_dictionary[li] for li in labels.reshape(8)])"
   ]
  },
  {
   "cell_type": "markdown",
   "metadata": {
    "colab_type": "text",
    "id": "Ofd1MbBuwiva"
   },
   "source": [
    "Train a skip-gram model."
   ]
  },
  {
   "cell_type": "code",
   "execution_count": null,
   "metadata": {
    "cellView": "both",
    "colab": {
     "autoexec": {
      "startup": false,
      "wait_interval": 0
     }
    },
    "colab_type": "code",
    "id": "8pQKsV4Vwlzy"
   },
   "outputs": [
    {
     "name": "stdout",
     "output_type": "stream",
     "text": [
      "WARNING:tensorflow:From c:\\users\\user\\appdata\\local\\programs\\python\\python36\\lib\\site-packages\\tensorflow\\python\\ops\\nn_impl.py:1124: sparse_to_dense (from tensorflow.python.ops.sparse_ops) is deprecated and will be removed in a future version.\n",
      "Instructions for updating:\n",
      "Create a `tf.sparse.SparseTensor` and use `tf.sparse.to_dense` instead.\n",
      "WARNING:tensorflow:From <ipython-input-8-7a06eb432760>:48: calling reduce_sum (from tensorflow.python.ops.math_ops) with keep_dims is deprecated and will be removed in a future version.\n",
      "Instructions for updating:\n",
      "keep_dims is deprecated, use keepdims instead\n"
     ]
    }
   ],
   "source": [
    "batch_size = 128\n",
    "embedding_size = 128 # Dimension of the embedding vector.\n",
    "skip_window = 1 # How many words to consider left and right.\n",
    "num_skips = 2 # How many times to reuse an input to generate a label.\n",
    "# We pick a random validation set to sample nearest neighbors. here we limit the\n",
    "# validation samples to the words that have a low numeric ID, which by\n",
    "# construction are also the most frequent. \n",
    "valid_size = 16 # Random set of words to evaluate similarity on.\n",
    "valid_window = 100 # Only pick dev samples in the head of the distribution.\n",
    "valid_examples = np.array(random.sample(range(valid_window), valid_size))\n",
    "num_sampled = 64 # Number of negative examples to sample.\n",
    "\n",
    "graph = tf.Graph()\n",
    "\n",
    "with graph.as_default(), tf.device('/cpu:0'):\n",
    "\n",
    "  # Input data.\n",
    "  train_dataset = tf.placeholder(tf.int32, shape=[batch_size])\n",
    "  train_labels = tf.placeholder(tf.int32, shape=[batch_size, 1])\n",
    "  valid_dataset = tf.constant(valid_examples, dtype=tf.int32)\n",
    "  \n",
    "  # Variables.\n",
    "  embeddings = tf.Variable(\n",
    "    tf.random_uniform([vocabulary_size, embedding_size], -1.0, 1.0))\n",
    "  softmax_weights = tf.Variable(\n",
    "    tf.truncated_normal([vocabulary_size, embedding_size],\n",
    "                         stddev=1.0 / math.sqrt(embedding_size)))\n",
    "  softmax_biases = tf.Variable(tf.zeros([vocabulary_size]))\n",
    "  \n",
    "  # Model.\n",
    "  # Look up embeddings for inputs.\n",
    "  embed = tf.nn.embedding_lookup(embeddings, train_dataset)\n",
    "  # Compute the softmax loss, using a sample of the negative labels each time.\n",
    "  loss = tf.reduce_mean(\n",
    "    tf.nn.sampled_softmax_loss(weights=softmax_weights, biases=softmax_biases, inputs=embed,\n",
    "                               labels=train_labels, num_sampled=num_sampled, num_classes=vocabulary_size))\n",
    "\n",
    "  # Optimizer.\n",
    "  # Note: The optimizer will optimize the softmax_weights AND the embeddings.\n",
    "  # This is because the embeddings are defined as a variable quantity and the\n",
    "  # optimizer's `minimize` method will by default modify all variable quantities \n",
    "  # that contribute to the tensor it is passed.\n",
    "  # See docs on `tf.train.Optimizer.minimize()` for more details.\n",
    "  optimizer = tf.train.AdagradOptimizer(1.0).minimize(loss)\n",
    "  \n",
    "  # Compute the similarity between minibatch examples and all embeddings.\n",
    "  # We use the cosine distance:\n",
    "  norm = tf.sqrt(tf.reduce_sum(tf.square(embeddings), 1, keep_dims=True))\n",
    "  normalized_embeddings = embeddings / norm\n",
    "  valid_embeddings = tf.nn.embedding_lookup(\n",
    "    normalized_embeddings, valid_dataset)\n",
    "  similarity = tf.matmul(valid_embeddings, tf.transpose(normalized_embeddings))"
   ]
  },
  {
   "cell_type": "code",
   "execution_count": null,
   "metadata": {
    "cellView": "both",
    "colab": {
     "autoexec": {
      "startup": false,
      "wait_interval": 0
     },
     "output_extras": [
      {
       "item_id": 23
      },
      {
       "item_id": 48
      },
      {
       "item_id": 61
      }
     ]
    },
    "colab_type": "code",
    "executionInfo": {
     "elapsed": 436189,
     "status": "ok",
     "timestamp": 1445965429787,
     "user": {
      "color": "#1FA15D",
      "displayName": "Vincent Vanhoucke",
      "isAnonymous": false,
      "isMe": true,
      "permissionId": "05076109866853157986",
      "photoUrl": "//lh6.googleusercontent.com/-cCJa7dTDcgQ/AAAAAAAAAAI/AAAAAAAACgw/r2EZ_8oYer4/s50-c-k-no/photo.jpg",
      "sessionId": "2f1ffade4c9f20de",
      "userId": "102167687554210253930"
     },
     "user_tz": 420
    },
    "id": "1bQFGceBxrWW",
    "outputId": "5ebd6d9a-33c6-4bcd-bf6d-252b0b6055e4"
   },
   "outputs": [
    {
     "name": "stdout",
     "output_type": "stream",
     "text": [
      "Initialized\n",
      "Average loss at step 0: 7.796597\n",
      "Nearest to also: bordeaux, donaghy, croesus, partners, grows, mediating, namesake, blah,\n",
      "Nearest to many: stumbled, pool, barnard, tenniel, patriarchal, perfect, msi, dudley,\n",
      "Nearest to an: wasteful, gwynedd, loses, homelessness, mays, radioisotopes, phillips, powerful,\n",
      "Nearest to from: tissues, warplanes, wiped, amos, methuen, fleet, emptive, concealment,\n",
      "Nearest to new: jezreel, posterity, stockport, hexagrams, nitrate, wawel, salvo, sputnik,\n",
      "Nearest to see: greenish, eris, further, orbiter, fencer, goldsmiths, spamalot, axis,\n",
      "Nearest to often: miso, runyon, wilfrid, patrilineal, medulla, celt, uniformed, rde,\n",
      "Nearest to all: hartford, ailments, embryology, courtney, trumpeter, steyr, agrippina, intuitions,\n",
      "Nearest to is: mysia, blueprints, conveniently, cages, enso, republica, telekom, empower,\n",
      "Nearest to was: uninhabitable, keitel, unattractive, caliph, loose, equatorial, caricature, paulette,\n",
      "Nearest to when: traverse, turkestan, rectangle, suvs, modifying, donations, canetti, sab,\n",
      "Nearest to of: hypothetical, tungsten, superfund, rom, merina, near, kiang, pflp,\n",
      "Nearest to which: jonas, simulating, crazed, pythagorean, draftsman, tyndale, epistemological, jahn,\n",
      "Nearest to about: ethel, crowned, rotten, advertisers, regular, soulful, hine, scholars,\n",
      "Nearest to these: mla, grateful, dijkstra, mortem, ursus, numerology, transboundary, yamaguchi,\n",
      "Nearest to two: accidents, arne, pigeons, urdu, behaves, egress, conglomerate, preyed,\n",
      "Average loss at step 2000: 4.363270\n",
      "Average loss at step 4000: 3.864554\n",
      "Average loss at step 6000: 3.781375\n",
      "Average loss at step 8000: 3.686226\n",
      "Average loss at step 10000: 3.614520\n",
      "Nearest to also: which, not, often, mediating, fellini, jury, croesus, still,\n",
      "Nearest to many: several, some, most, lame, soul, unproductive, remaining, these,\n",
      "Nearest to an: radioisotopes, anxious, highland, excuses, lv, brewery, amassing, departing,\n",
      "Nearest to from: surgeon, in, on, into, tissues, by, for, methuen,\n",
      "Nearest to new: jezreel, butcher, withers, stockport, dlp, ldap, tang, tolerated,\n",
      "Nearest to see: orbiter, greenish, further, eris, storylines, rafael, fencer, vilnius,\n",
      "Nearest to often: runyon, also, patrilineal, merritt, rip, ephraem, which, more,\n",
      "Nearest to all: intuitions, seaport, aisha, illustrative, ferreira, shuster, hartford, zealand,\n",
      "Nearest to is: was, are, has, be, became, fps, safi, hallucinations,\n",
      "Nearest to was: is, had, by, has, be, were, pennies, been,\n",
      "Nearest to when: modifying, donations, traverse, shiny, but, digger, canetti, absolutely,\n",
      "Nearest to of: in, for, and, gamut, fullest, fisa, heracleidae, austrian,\n",
      "Nearest to which: this, that, also, who, onesimus, it, aloe, enlarge,\n",
      "Nearest to about: regular, massless, soulful, that, rtiges, advertisers, crowned, linear,\n",
      "Nearest to these: argue, many, siberia, forest, introducing, mortem, concurrently, holborn,\n",
      "Nearest to two: four, three, five, seven, six, eight, nine, zero,\n",
      "Average loss at step 12000: 3.600998\n",
      "Average loss at step 14000: 3.568473\n",
      "Average loss at step 16000: 3.408183\n",
      "Average loss at step 18000: 3.452804\n",
      "Average loss at step 20000: 3.537668\n",
      "Nearest to also: which, not, still, often, never, now, who, generally,\n",
      "Nearest to many: some, several, these, most, lame, all, recent, other,\n",
      "Nearest to an: anxious, radioisotopes, the, excuses, luening, homelessness, lv, amateur,\n",
      "Nearest to from: into, through, in, surgeon, tissues, and, by, at,\n",
      "Nearest to new: jezreel, butcher, stockport, withers, guinness, enumerative, photosensitive, dlp,\n",
      "Nearest to see: orbiter, eris, storylines, gs, rafael, sw, kirtland, hoosier,\n",
      "Nearest to often: which, also, who, runyon, merritt, patrilineal, there, still,\n",
      "Nearest to all: some, many, these, individualistic, several, vindicated, aisha, edmunds,\n",
      "Nearest to is: was, has, are, be, were, became, champaign, but,\n",
      "Nearest to was: is, had, has, were, became, are, been, simultaneity,\n",
      "Nearest to when: if, but, where, after, makes, was, as, digger,\n",
      "Nearest to of: for, fullest, in, during, fisa, and, with, second,\n",
      "Nearest to which: this, that, there, also, who, it, but, often,\n",
      "Nearest to about: rtiges, massless, soulful, constructor, that, linear, ethel, crowned,\n",
      "Nearest to these: many, some, all, their, omission, which, they, there,\n",
      "Nearest to two: four, three, six, five, seven, one, eight, zero,\n",
      "Average loss at step 22000: 3.505621\n",
      "Average loss at step 24000: 3.492817\n",
      "Average loss at step 26000: 3.481362\n",
      "Average loss at step 28000: 3.483385\n",
      "Average loss at step 30000: 3.502883\n",
      "Nearest to also: still, often, now, it, which, sometimes, never, who,\n",
      "Nearest to many: some, several, these, most, all, lame, opel, guang,\n",
      "Nearest to an: lv, anxious, excuses, radioisotopes, amateur, the, calvin, yolande,\n",
      "Nearest to from: into, through, surgeon, under, on, by, across, nicene,\n",
      "Nearest to new: jezreel, photosensitive, butcher, stockport, pogroms, guinness, manicheanism, tang,\n",
      "Nearest to see: fiery, orbiter, cancers, compostela, honshu, include, dislocations, signalled,\n",
      "Nearest to often: sometimes, commonly, usually, also, generally, still, there, who,\n",
      "Nearest to all: some, these, many, several, disdained, various, those, moli,\n",
      "Nearest to is: was, has, are, became, were, does, had, but,\n",
      "Nearest to was: is, had, has, were, became, been, being, hells,\n",
      "Nearest to when: if, where, after, while, but, although, though, during,\n",
      "Nearest to of: in, fisa, for, fertilized, and, editorial, same, probabilities,\n",
      "Nearest to which: this, that, who, also, there, it, synthesised, these,\n",
      "Nearest to about: linear, rtiges, massless, soulful, that, tuva, crowned, heterochromatin,\n",
      "Nearest to these: some, many, their, all, they, there, such, the,\n",
      "Nearest to two: three, four, five, seven, one, six, eight, nine,\n",
      "Average loss at step 32000: 3.500044\n",
      "Average loss at step 34000: 3.489405\n",
      "Average loss at step 36000: 3.460543\n",
      "Average loss at step 38000: 3.301227\n",
      "Average loss at step 40000: 3.430126\n",
      "Nearest to also: often, which, now, still, sometimes, usually, never, who,\n",
      "Nearest to many: some, several, these, those, all, most, lame, various,\n",
      "Nearest to an: anxious, excuses, radioisotopes, luening, tierney, cynicism, calvin, lv,\n",
      "Nearest to from: through, into, stereotyping, surgeon, in, to, upon, during,\n",
      "Nearest to new: butcher, jezreel, arthurian, photosensitive, withers, wren, enumerative, guinness,\n",
      "Nearest to see: cancers, include, fiery, gs, ks, dislocations, includes, potatoes,\n",
      "Nearest to often: usually, commonly, sometimes, also, generally, still, who, which,\n",
      "Nearest to all: these, many, several, both, eglise, various, some, disdained,\n",
      "Nearest to is: was, are, has, evolving, be, if, deprive, irrevocably,\n",
      "Nearest to was: is, has, were, became, had, when, be, been,\n",
      "Nearest to when: if, while, where, after, was, though, although, before,\n",
      "Nearest to of: original, in, sed, for, preponderance, from, same, including,\n",
      "Nearest to which: that, this, who, also, there, often, it, but,\n",
      "Nearest to about: tuva, rtiges, on, linear, soulful, heterochromatin, hao, massless,\n",
      "Nearest to these: many, some, several, both, all, they, there, their,\n",
      "Nearest to two: three, four, five, six, seven, one, eight, zero,\n",
      "Average loss at step 42000: 3.440197\n",
      "Average loss at step 44000: 3.453654\n",
      "Average loss at step 46000: 3.452614\n",
      "Average loss at step 48000: 3.354507\n",
      "Average loss at step 50000: 3.383631\n",
      "Nearest to also: now, often, which, still, sometimes, who, never, then,\n",
      "Nearest to many: some, several, these, both, most, various, those, few,\n",
      "Nearest to an: anxious, lv, excuses, luening, stanzas, tierney, occitan, neurologist,\n",
      "Nearest to from: into, through, in, across, within, during, at, tissues,\n",
      "Nearest to new: butcher, photosensitive, abbasid, specific, reform, jezreel, afx, arthurian,\n",
      "Nearest to see: include, fiery, cancers, friesland, admissible, susan, list, includes,\n",
      "Nearest to often: usually, commonly, sometimes, generally, also, now, frequently, widely,\n",
      "Nearest to all: both, these, various, some, each, eglise, machines, cognitive,\n",
      "Nearest to is: was, has, became, are, be, does, though, capillary,\n",
      "Nearest to was: is, were, became, has, had, be, hells, been,\n",
      "Nearest to when: if, after, where, while, but, although, however, before,\n",
      "Nearest to of: and, in, hekate, sidemen, including, whose, remarry, degenerative,\n",
      "Nearest to which: that, this, who, also, synthesised, often, these, what,\n",
      "Nearest to about: tuva, rtiges, heterochromatin, ailment, on, soulful, linear, colonize,\n",
      "Nearest to these: some, many, both, several, such, different, which, all,\n",
      "Nearest to two: three, four, one, six, five, seven, eight, zero,\n"
     ]
    },
    {
     "name": "stdout",
     "output_type": "stream",
     "text": [
      "Average loss at step 52000: 3.435500\n",
      "Average loss at step 54000: 3.426711\n",
      "Average loss at step 56000: 3.434256\n",
      "Average loss at step 58000: 3.400903\n",
      "Average loss at step 60000: 3.393634\n",
      "Nearest to also: now, still, often, sometimes, usually, never, always, which,\n",
      "Nearest to many: some, several, these, various, most, both, few, all,\n",
      "Nearest to an: excuses, anxious, luening, lv, radioisotopes, amassing, homelessness, calvin,\n",
      "Nearest to from: through, into, surgeon, across, in, under, digraph, between,\n",
      "Nearest to new: butcher, photosensitive, lone, arthurian, specific, reform, afx, ascertaining,\n",
      "Nearest to see: admissible, include, fiery, includes, but, list, cancers, kirtland,\n",
      "Nearest to often: sometimes, usually, commonly, generally, frequently, still, also, now,\n",
      "Nearest to all: both, these, various, those, some, any, terrestrial, each,\n",
      "Nearest to is: was, are, has, became, swat, does, remains, be,\n",
      "Nearest to was: is, had, became, were, has, been, be, when,\n",
      "Nearest to when: if, although, before, while, after, where, however, but,\n",
      "Nearest to of: for, in, same, including, bartender, preponderance, fullest, although,\n",
      "Nearest to which: that, this, who, what, synthesised, however, these, usually,\n",
      "Nearest to about: tuva, rtiges, that, colonize, ailment, heterochromatin, over, on,\n",
      "Nearest to these: many, some, such, both, several, those, all, which,\n",
      "Nearest to two: three, four, six, five, seven, eight, one, zero,\n",
      "Average loss at step 62000: 3.246561\n",
      "Average loss at step 64000: 3.256917\n",
      "Average loss at step 66000: 3.402651\n",
      "Average loss at step 68000: 3.399142\n"
     ]
    }
   ],
   "source": [
    "num_steps = 100001\n",
    "\n",
    "with tf.Session(graph=graph) as session:\n",
    "  tf.global_variables_initializer().run()\n",
    "  print('Initialized')\n",
    "  average_loss = 0\n",
    "  for step in range(num_steps):\n",
    "    batch_data, batch_labels = generate_batch(\n",
    "      batch_size, num_skips, skip_window)\n",
    "    feed_dict = {train_dataset : batch_data, train_labels : batch_labels}\n",
    "    _, l = session.run([optimizer, loss], feed_dict=feed_dict)\n",
    "    average_loss += l\n",
    "    if step % 2000 == 0:\n",
    "      if step > 0:\n",
    "        average_loss = average_loss / 2000\n",
    "      # The average loss is an estimate of the loss over the last 2000 batches.\n",
    "      print('Average loss at step %d: %f' % (step, average_loss))\n",
    "      average_loss = 0\n",
    "    # note that this is expensive (~20% slowdown if computed every 500 steps)\n",
    "    if step % 10000 == 0:\n",
    "      sim = similarity.eval()\n",
    "      for i in range(valid_size):\n",
    "        valid_word = reverse_dictionary[valid_examples[i]]\n",
    "        top_k = 8 # number of nearest neighbors\n",
    "        nearest = (-sim[i, :]).argsort()[1:top_k+1]\n",
    "        log = 'Nearest to %s:' % valid_word\n",
    "        for k in range(top_k):\n",
    "          close_word = reverse_dictionary[nearest[k]]\n",
    "          log = '%s %s,' % (log, close_word)\n",
    "        print(log)\n",
    "  final_embeddings = normalized_embeddings.eval()"
   ]
  },
  {
   "cell_type": "code",
   "execution_count": null,
   "metadata": {
    "cellView": "both",
    "colab": {
     "autoexec": {
      "startup": false,
      "wait_interval": 0
     }
    },
    "colab_type": "code",
    "id": "jjJXYA_XzV79"
   },
   "outputs": [],
   "source": [
    "num_points = 400\n",
    "\n",
    "tsne = TSNE(perplexity=30, n_components=2, init='pca', n_iter=5000)\n",
    "two_d_embeddings = tsne.fit_transform(final_embeddings[1:num_points+1, :])"
   ]
  },
  {
   "cell_type": "code",
   "execution_count": null,
   "metadata": {
    "cellView": "both",
    "colab": {
     "autoexec": {
      "startup": false,
      "wait_interval": 0
     },
     "output_extras": [
      {
       "item_id": 1
      }
     ]
    },
    "colab_type": "code",
    "executionInfo": {
     "elapsed": 4763,
     "status": "ok",
     "timestamp": 1445965465525,
     "user": {
      "color": "#1FA15D",
      "displayName": "Vincent Vanhoucke",
      "isAnonymous": false,
      "isMe": true,
      "permissionId": "05076109866853157986",
      "photoUrl": "//lh6.googleusercontent.com/-cCJa7dTDcgQ/AAAAAAAAAAI/AAAAAAAACgw/r2EZ_8oYer4/s50-c-k-no/photo.jpg",
      "sessionId": "2f1ffade4c9f20de",
      "userId": "102167687554210253930"
     },
     "user_tz": 420
    },
    "id": "o_e0D_UezcDe",
    "outputId": "df22e4a5-e8ec-4e5e-d384-c6cf37c68c34"
   },
   "outputs": [],
   "source": [
    "def plot(embeddings, labels):\n",
    "  assert embeddings.shape[0] >= len(labels), 'More labels than embeddings'\n",
    "  pylab.figure(figsize=(15,15))  # in inches\n",
    "  for i, label in enumerate(labels):\n",
    "    x, y = embeddings[i,:]\n",
    "    pylab.scatter(x, y)\n",
    "    pylab.annotate(label, xy=(x, y), xytext=(5, 2), textcoords='offset points',\n",
    "                   ha='right', va='bottom')\n",
    "  pylab.show()\n",
    "\n",
    "words = [reverse_dictionary[i] for i in range(1, num_points+1)]\n",
    "plot(two_d_embeddings, words)"
   ]
  },
  {
   "cell_type": "markdown",
   "metadata": {
    "colab_type": "text",
    "id": "QB5EFrBnpNnc"
   },
   "source": [
    "---\n",
    "\n",
    "Problem\n",
    "-------\n",
    "\n",
    "An alternative to skip-gram is another Word2Vec model called [CBOW](http://arxiv.org/abs/1301.3781) (Continuous Bag of Words). In the CBOW model, instead of predicting a context word from a word vector, you predict a word from the sum of all the word vectors in its context. Implement and evaluate a CBOW model trained on the text8 dataset.\n",
    "\n",
    "---"
   ]
  }
 ],
 "metadata": {
  "colab": {
   "default_view": {},
   "name": "5_word2vec.ipynb",
   "provenance": [],
   "version": "0.3.2",
   "views": {}
  },
  "kernelspec": {
   "display_name": "Python 3",
   "language": "python",
   "name": "python3"
  },
  "language_info": {
   "codemirror_mode": {
    "name": "ipython",
    "version": 3
   },
   "file_extension": ".py",
   "mimetype": "text/x-python",
   "name": "python",
   "nbconvert_exporter": "python",
   "pygments_lexer": "ipython3",
   "version": "3.6.2"
  }
 },
 "nbformat": 4,
 "nbformat_minor": 1
}
